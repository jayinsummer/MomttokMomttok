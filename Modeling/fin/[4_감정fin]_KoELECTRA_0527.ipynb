{
  "nbformat": 4,
  "nbformat_minor": 0,
  "metadata": {
    "colab": {
      "provenance": []
    },
    "kernelspec": {
      "name": "python3",
      "display_name": "Python 3"
    },
    "language_info": {
      "name": "python"
    }
  },
  "cells": [
    {
      "cell_type": "markdown",
      "source": [
        "모듈 및 라이브러리 불러오기"
      ],
      "metadata": {
        "id": "HqMB4M0PDnaU"
      }
    },
    {
      "cell_type": "code",
      "execution_count": 1,
      "metadata": {
        "colab": {
          "base_uri": "https://localhost:8080/"
        },
        "id": "hMBUhnmXy9zx",
        "outputId": "288d0880-b006-4462-ba1e-41a26d5e855b"
      },
      "outputs": [
        {
          "output_type": "stream",
          "name": "stdout",
          "text": [
            "Collecting konlpy\n",
            "  Downloading konlpy-0.6.0-py2.py3-none-any.whl (19.4 MB)\n",
            "\u001b[2K     \u001b[90m━━━━━━━━━━━━━━━━━━━━━━━━━━━━━━━━━━━━━━━━\u001b[0m \u001b[32m19.4/19.4 MB\u001b[0m \u001b[31m27.5 MB/s\u001b[0m eta \u001b[36m0:00:00\u001b[0m\n",
            "\u001b[?25hCollecting JPype1>=0.7.0 (from konlpy)\n",
            "  Downloading JPype1-1.5.0-cp310-cp310-manylinux_2_17_x86_64.manylinux2014_x86_64.whl (488 kB)\n",
            "\u001b[2K     \u001b[90m━━━━━━━━━━━━━━━━━━━━━━━━━━━━━━━━━━━━━━━━\u001b[0m \u001b[32m488.6/488.6 kB\u001b[0m \u001b[31m31.2 MB/s\u001b[0m eta \u001b[36m0:00:00\u001b[0m\n",
            "\u001b[?25hRequirement already satisfied: lxml>=4.1.0 in /usr/local/lib/python3.10/dist-packages (from konlpy) (4.9.4)\n",
            "Requirement already satisfied: numpy>=1.6 in /usr/local/lib/python3.10/dist-packages (from konlpy) (1.25.2)\n",
            "Requirement already satisfied: packaging in /usr/local/lib/python3.10/dist-packages (from JPype1>=0.7.0->konlpy) (24.0)\n",
            "Installing collected packages: JPype1, konlpy\n",
            "Successfully installed JPype1-1.5.0 konlpy-0.6.0\n"
          ]
        }
      ],
      "source": [
        "!pip install konlpy"
      ]
    },
    {
      "cell_type": "code",
      "source": [
        "!pip install transformers pytorch_lightning tokenizers sentencepiece"
      ],
      "metadata": {
        "colab": {
          "base_uri": "https://localhost:8080/"
        },
        "id": "dVOb4B4hzya2",
        "outputId": "56cb015e-e954-4b0c-f39f-837499cffce7"
      },
      "execution_count": 4,
      "outputs": [
        {
          "output_type": "stream",
          "name": "stdout",
          "text": [
            "Requirement already satisfied: transformers in /usr/local/lib/python3.10/dist-packages (4.41.0)\n",
            "Collecting pytorch_lightning\n",
            "  Downloading pytorch_lightning-2.2.5-py3-none-any.whl (802 kB)\n",
            "\u001b[2K     \u001b[90m━━━━━━━━━━━━━━━━━━━━━━━━━━━━━━━━━━━━━━━━\u001b[0m \u001b[32m802.3/802.3 kB\u001b[0m \u001b[31m14.8 MB/s\u001b[0m eta \u001b[36m0:00:00\u001b[0m\n",
            "\u001b[?25hRequirement already satisfied: tokenizers in /usr/local/lib/python3.10/dist-packages (0.19.1)\n",
            "Requirement already satisfied: sentencepiece in /usr/local/lib/python3.10/dist-packages (0.1.99)\n",
            "Requirement already satisfied: filelock in /usr/local/lib/python3.10/dist-packages (from transformers) (3.14.0)\n",
            "Requirement already satisfied: huggingface-hub<1.0,>=0.23.0 in /usr/local/lib/python3.10/dist-packages (from transformers) (0.23.1)\n",
            "Requirement already satisfied: numpy>=1.17 in /usr/local/lib/python3.10/dist-packages (from transformers) (1.25.2)\n",
            "Requirement already satisfied: packaging>=20.0 in /usr/local/lib/python3.10/dist-packages (from transformers) (24.0)\n",
            "Requirement already satisfied: pyyaml>=5.1 in /usr/local/lib/python3.10/dist-packages (from transformers) (6.0.1)\n",
            "Requirement already satisfied: regex!=2019.12.17 in /usr/local/lib/python3.10/dist-packages (from transformers) (2023.12.25)\n",
            "Requirement already satisfied: requests in /usr/local/lib/python3.10/dist-packages (from transformers) (2.31.0)\n",
            "Requirement already satisfied: safetensors>=0.4.1 in /usr/local/lib/python3.10/dist-packages (from transformers) (0.4.3)\n",
            "Requirement already satisfied: tqdm>=4.27 in /usr/local/lib/python3.10/dist-packages (from transformers) (4.66.4)\n",
            "Requirement already satisfied: torch>=1.13.0 in /usr/local/lib/python3.10/dist-packages (from pytorch_lightning) (2.3.0+cu121)\n",
            "Requirement already satisfied: fsspec[http]>=2022.5.0 in /usr/local/lib/python3.10/dist-packages (from pytorch_lightning) (2023.6.0)\n",
            "Collecting torchmetrics>=0.7.0 (from pytorch_lightning)\n",
            "  Downloading torchmetrics-1.4.0.post0-py3-none-any.whl (868 kB)\n",
            "\u001b[2K     \u001b[90m━━━━━━━━━━━━━━━━━━━━━━━━━━━━━━━━━━━━━━━━\u001b[0m \u001b[32m868.8/868.8 kB\u001b[0m \u001b[31m43.2 MB/s\u001b[0m eta \u001b[36m0:00:00\u001b[0m\n",
            "\u001b[?25hRequirement already satisfied: typing-extensions>=4.4.0 in /usr/local/lib/python3.10/dist-packages (from pytorch_lightning) (4.11.0)\n",
            "Collecting lightning-utilities>=0.8.0 (from pytorch_lightning)\n",
            "  Downloading lightning_utilities-0.11.2-py3-none-any.whl (26 kB)\n",
            "Requirement already satisfied: aiohttp!=4.0.0a0,!=4.0.0a1 in /usr/local/lib/python3.10/dist-packages (from fsspec[http]>=2022.5.0->pytorch_lightning) (3.9.5)\n",
            "Requirement already satisfied: setuptools in /usr/local/lib/python3.10/dist-packages (from lightning-utilities>=0.8.0->pytorch_lightning) (67.7.2)\n",
            "Requirement already satisfied: sympy in /usr/local/lib/python3.10/dist-packages (from torch>=1.13.0->pytorch_lightning) (1.12)\n",
            "Requirement already satisfied: networkx in /usr/local/lib/python3.10/dist-packages (from torch>=1.13.0->pytorch_lightning) (3.3)\n",
            "Requirement already satisfied: jinja2 in /usr/local/lib/python3.10/dist-packages (from torch>=1.13.0->pytorch_lightning) (3.1.4)\n",
            "Collecting nvidia-cuda-nvrtc-cu12==12.1.105 (from torch>=1.13.0->pytorch_lightning)\n",
            "  Using cached nvidia_cuda_nvrtc_cu12-12.1.105-py3-none-manylinux1_x86_64.whl (23.7 MB)\n",
            "Collecting nvidia-cuda-runtime-cu12==12.1.105 (from torch>=1.13.0->pytorch_lightning)\n",
            "  Using cached nvidia_cuda_runtime_cu12-12.1.105-py3-none-manylinux1_x86_64.whl (823 kB)\n",
            "Collecting nvidia-cuda-cupti-cu12==12.1.105 (from torch>=1.13.0->pytorch_lightning)\n",
            "  Using cached nvidia_cuda_cupti_cu12-12.1.105-py3-none-manylinux1_x86_64.whl (14.1 MB)\n",
            "Collecting nvidia-cudnn-cu12==8.9.2.26 (from torch>=1.13.0->pytorch_lightning)\n",
            "  Using cached nvidia_cudnn_cu12-8.9.2.26-py3-none-manylinux1_x86_64.whl (731.7 MB)\n",
            "Collecting nvidia-cublas-cu12==12.1.3.1 (from torch>=1.13.0->pytorch_lightning)\n",
            "  Using cached nvidia_cublas_cu12-12.1.3.1-py3-none-manylinux1_x86_64.whl (410.6 MB)\n",
            "Collecting nvidia-cufft-cu12==11.0.2.54 (from torch>=1.13.0->pytorch_lightning)\n",
            "  Using cached nvidia_cufft_cu12-11.0.2.54-py3-none-manylinux1_x86_64.whl (121.6 MB)\n",
            "Collecting nvidia-curand-cu12==10.3.2.106 (from torch>=1.13.0->pytorch_lightning)\n",
            "  Using cached nvidia_curand_cu12-10.3.2.106-py3-none-manylinux1_x86_64.whl (56.5 MB)\n",
            "Collecting nvidia-cusolver-cu12==11.4.5.107 (from torch>=1.13.0->pytorch_lightning)\n",
            "  Using cached nvidia_cusolver_cu12-11.4.5.107-py3-none-manylinux1_x86_64.whl (124.2 MB)\n",
            "Collecting nvidia-cusparse-cu12==12.1.0.106 (from torch>=1.13.0->pytorch_lightning)\n",
            "  Using cached nvidia_cusparse_cu12-12.1.0.106-py3-none-manylinux1_x86_64.whl (196.0 MB)\n",
            "Collecting nvidia-nccl-cu12==2.20.5 (from torch>=1.13.0->pytorch_lightning)\n",
            "  Using cached nvidia_nccl_cu12-2.20.5-py3-none-manylinux2014_x86_64.whl (176.2 MB)\n",
            "Collecting nvidia-nvtx-cu12==12.1.105 (from torch>=1.13.0->pytorch_lightning)\n",
            "  Using cached nvidia_nvtx_cu12-12.1.105-py3-none-manylinux1_x86_64.whl (99 kB)\n",
            "Requirement already satisfied: triton==2.3.0 in /usr/local/lib/python3.10/dist-packages (from torch>=1.13.0->pytorch_lightning) (2.3.0)\n",
            "Collecting nvidia-nvjitlink-cu12 (from nvidia-cusolver-cu12==11.4.5.107->torch>=1.13.0->pytorch_lightning)\n",
            "  Downloading nvidia_nvjitlink_cu12-12.5.40-py3-none-manylinux2014_x86_64.whl (21.3 MB)\n",
            "\u001b[2K     \u001b[90m━━━━━━━━━━━━━━━━━━━━━━━━━━━━━━━━━━━━━━━━\u001b[0m \u001b[32m21.3/21.3 MB\u001b[0m \u001b[31m60.6 MB/s\u001b[0m eta \u001b[36m0:00:00\u001b[0m\n",
            "\u001b[?25hRequirement already satisfied: charset-normalizer<4,>=2 in /usr/local/lib/python3.10/dist-packages (from requests->transformers) (3.3.2)\n",
            "Requirement already satisfied: idna<4,>=2.5 in /usr/local/lib/python3.10/dist-packages (from requests->transformers) (3.7)\n",
            "Requirement already satisfied: urllib3<3,>=1.21.1 in /usr/local/lib/python3.10/dist-packages (from requests->transformers) (2.0.7)\n",
            "Requirement already satisfied: certifi>=2017.4.17 in /usr/local/lib/python3.10/dist-packages (from requests->transformers) (2024.2.2)\n",
            "Requirement already satisfied: aiosignal>=1.1.2 in /usr/local/lib/python3.10/dist-packages (from aiohttp!=4.0.0a0,!=4.0.0a1->fsspec[http]>=2022.5.0->pytorch_lightning) (1.3.1)\n",
            "Requirement already satisfied: attrs>=17.3.0 in /usr/local/lib/python3.10/dist-packages (from aiohttp!=4.0.0a0,!=4.0.0a1->fsspec[http]>=2022.5.0->pytorch_lightning) (23.2.0)\n",
            "Requirement already satisfied: frozenlist>=1.1.1 in /usr/local/lib/python3.10/dist-packages (from aiohttp!=4.0.0a0,!=4.0.0a1->fsspec[http]>=2022.5.0->pytorch_lightning) (1.4.1)\n",
            "Requirement already satisfied: multidict<7.0,>=4.5 in /usr/local/lib/python3.10/dist-packages (from aiohttp!=4.0.0a0,!=4.0.0a1->fsspec[http]>=2022.5.0->pytorch_lightning) (6.0.5)\n",
            "Requirement already satisfied: yarl<2.0,>=1.0 in /usr/local/lib/python3.10/dist-packages (from aiohttp!=4.0.0a0,!=4.0.0a1->fsspec[http]>=2022.5.0->pytorch_lightning) (1.9.4)\n",
            "Requirement already satisfied: async-timeout<5.0,>=4.0 in /usr/local/lib/python3.10/dist-packages (from aiohttp!=4.0.0a0,!=4.0.0a1->fsspec[http]>=2022.5.0->pytorch_lightning) (4.0.3)\n",
            "Requirement already satisfied: MarkupSafe>=2.0 in /usr/local/lib/python3.10/dist-packages (from jinja2->torch>=1.13.0->pytorch_lightning) (2.1.5)\n",
            "Requirement already satisfied: mpmath>=0.19 in /usr/local/lib/python3.10/dist-packages (from sympy->torch>=1.13.0->pytorch_lightning) (1.3.0)\n",
            "Installing collected packages: nvidia-nvtx-cu12, nvidia-nvjitlink-cu12, nvidia-nccl-cu12, nvidia-curand-cu12, nvidia-cufft-cu12, nvidia-cuda-runtime-cu12, nvidia-cuda-nvrtc-cu12, nvidia-cuda-cupti-cu12, nvidia-cublas-cu12, lightning-utilities, nvidia-cusparse-cu12, nvidia-cudnn-cu12, nvidia-cusolver-cu12, torchmetrics, pytorch_lightning\n",
            "Successfully installed lightning-utilities-0.11.2 nvidia-cublas-cu12-12.1.3.1 nvidia-cuda-cupti-cu12-12.1.105 nvidia-cuda-nvrtc-cu12-12.1.105 nvidia-cuda-runtime-cu12-12.1.105 nvidia-cudnn-cu12-8.9.2.26 nvidia-cufft-cu12-11.0.2.54 nvidia-curand-cu12-10.3.2.106 nvidia-cusolver-cu12-11.4.5.107 nvidia-cusparse-cu12-12.1.0.106 nvidia-nccl-cu12-2.20.5 nvidia-nvjitlink-cu12-12.5.40 nvidia-nvtx-cu12-12.1.105 pytorch_lightning-2.2.5 torchmetrics-1.4.0.post0\n"
          ]
        }
      ]
    },
    {
      "cell_type": "code",
      "source": [
        "import torch\n",
        "\n",
        "if torch.cuda.is_available():\n",
        "    device = torch.device(\"cuda:0\")\n",
        "else:\n",
        "    device = torch.device('cpu')"
      ],
      "metadata": {
        "id": "ZvAWzifPzcrj"
      },
      "execution_count": 2,
      "outputs": []
    },
    {
      "cell_type": "code",
      "source": [
        "import pandas as pd\n",
        "import numpy as np\n",
        "from tqdm import tqdm\n",
        "import torch.nn.functional as F\n",
        "import random\n",
        "import os\n",
        "import re\n",
        "import torch\n",
        "import tensorflow as tf\n",
        "\n",
        "from torch.optim import AdamW\n",
        "from torch.utils.data import TensorDataset, DataLoader\n",
        "from transformers import AutoModelForSequenceClassification, AutoTokenizer, get_scheduler\n",
        "from pytorch_lightning import LightningModule, Trainer\n",
        "from pytorch_lightning.callbacks import ModelCheckpoint\n",
        "from sklearn.model_selection import train_test_split\n",
        "from transformers import AutoTokenizer\n",
        "from transformers import ElectraForSequenceClassification, AdamW\n",
        "from transformers import get_linear_schedule_with_warmup\n",
        "from torch.utils.data import DataLoader, Dataset\n",
        "from keras.preprocessing.sequence import pad_sequences\n",
        "from transformers import AutoModelForSequenceClassification, pipeline\n",
        "\n",
        "import torch.nn as nn # 분류 헤드 수정 - KoElectra 모델의 출력층을 6개의 클래스로 분류할 수 있도록 수정\n",
        "\n",
        "from google.colab import drive\n",
        "drive.mount('/content/drive')"
      ],
      "metadata": {
        "colab": {
          "base_uri": "https://localhost:8080/"
        },
        "id": "LnEWg0LlzTRY",
        "outputId": "a4244042-a634-49ee-bde0-e367349272a0"
      },
      "execution_count": 15,
      "outputs": [
        {
          "output_type": "stream",
          "name": "stdout",
          "text": [
            "Drive already mounted at /content/drive; to attempt to forcibly remount, call drive.mount(\"/content/drive\", force_remount=True).\n"
          ]
        }
      ]
    },
    {
      "cell_type": "markdown",
      "source": [
        "모델 불러오기"
      ],
      "metadata": {
        "id": "ElmRIKatDrXL"
      }
    },
    {
      "cell_type": "code",
      "source": [
        "'''# parameter\n",
        "max_len = 64\n",
        "batch_size = 32'''"
      ],
      "metadata": {
        "id": "pMpdkkyX0-cq"
      },
      "execution_count": 6,
      "outputs": []
    },
    {
      "cell_type": "code",
      "source": [
        "model_name = \"monologg/koelectra-base-v3-discriminator\"\n",
        "tokenizer = ElectraTokenizer.from_pretrained(model_name)\n",
        "model = ElectraForSequenceClassification.from_pretrained(model_name, num_labels=6)  # 감정 종류가 6개라고 가정"
      ],
      "metadata": {
        "colab": {
          "base_uri": "https://localhost:8080/"
        },
        "id": "HlC8EK30Bqkv",
        "outputId": "71f0c3e7-10ff-49a5-d4c9-1e85b771968a"
      },
      "execution_count": 33,
      "outputs": [
        {
          "output_type": "stream",
          "name": "stderr",
          "text": [
            "Some weights of ElectraForSequenceClassification were not initialized from the model checkpoint at monologg/koelectra-base-v3-discriminator and are newly initialized: ['classifier.dense.bias', 'classifier.dense.weight', 'classifier.out_proj.bias', 'classifier.out_proj.weight']\n",
            "You should probably TRAIN this model on a down-stream task to be able to use it for predictions and inference.\n"
          ]
        }
      ]
    },
    {
      "cell_type": "code",
      "source": [
        "from transformers import AutoTokenizer, ElectraForSequenceClassification, AdamW\n",
        "#model = ElectraForSequenceClassification.from_pretrained(\"monologg/koelectra-base-v3-discriminator\").to(device)\n",
        "#model.classifier.out_proj = nn.Linear(in_features=768, out_features=6)\n",
        "\n",
        "PATH ='/content/drive/MyDrive/0000/Class/졸프/model_fin/model_KoElectra_0522.pt'\n",
        "model.load_state_dict(torch.load(PATH, map_location=device))\n",
        "model.eval()"
      ],
      "metadata": {
        "colab": {
          "base_uri": "https://localhost:8080/"
        },
        "id": "xZ_nqZZY2jg7",
        "outputId": "e281830f-449e-41b2-fafd-b266aee358e7"
      },
      "execution_count": 34,
      "outputs": [
        {
          "output_type": "execute_result",
          "data": {
            "text/plain": [
              "ElectraForSequenceClassification(\n",
              "  (electra): ElectraModel(\n",
              "    (embeddings): ElectraEmbeddings(\n",
              "      (word_embeddings): Embedding(35000, 768, padding_idx=0)\n",
              "      (position_embeddings): Embedding(512, 768)\n",
              "      (token_type_embeddings): Embedding(2, 768)\n",
              "      (LayerNorm): LayerNorm((768,), eps=1e-12, elementwise_affine=True)\n",
              "      (dropout): Dropout(p=0.1, inplace=False)\n",
              "    )\n",
              "    (encoder): ElectraEncoder(\n",
              "      (layer): ModuleList(\n",
              "        (0-11): 12 x ElectraLayer(\n",
              "          (attention): ElectraAttention(\n",
              "            (self): ElectraSelfAttention(\n",
              "              (query): Linear(in_features=768, out_features=768, bias=True)\n",
              "              (key): Linear(in_features=768, out_features=768, bias=True)\n",
              "              (value): Linear(in_features=768, out_features=768, bias=True)\n",
              "              (dropout): Dropout(p=0.1, inplace=False)\n",
              "            )\n",
              "            (output): ElectraSelfOutput(\n",
              "              (dense): Linear(in_features=768, out_features=768, bias=True)\n",
              "              (LayerNorm): LayerNorm((768,), eps=1e-12, elementwise_affine=True)\n",
              "              (dropout): Dropout(p=0.1, inplace=False)\n",
              "            )\n",
              "          )\n",
              "          (intermediate): ElectraIntermediate(\n",
              "            (dense): Linear(in_features=768, out_features=3072, bias=True)\n",
              "            (intermediate_act_fn): GELUActivation()\n",
              "          )\n",
              "          (output): ElectraOutput(\n",
              "            (dense): Linear(in_features=3072, out_features=768, bias=True)\n",
              "            (LayerNorm): LayerNorm((768,), eps=1e-12, elementwise_affine=True)\n",
              "            (dropout): Dropout(p=0.1, inplace=False)\n",
              "          )\n",
              "        )\n",
              "      )\n",
              "    )\n",
              "  )\n",
              "  (classifier): ElectraClassificationHead(\n",
              "    (dense): Linear(in_features=768, out_features=768, bias=True)\n",
              "    (activation): GELUActivation()\n",
              "    (dropout): Dropout(p=0.1, inplace=False)\n",
              "    (out_proj): Linear(in_features=768, out_features=6, bias=True)\n",
              "  )\n",
              ")"
            ]
          },
          "metadata": {},
          "execution_count": 34
        }
      ]
    },
    {
      "cell_type": "markdown",
      "source": [
        "모델 예측"
      ],
      "metadata": {
        "id": "8rCj820iDwTx"
      }
    },
    {
      "cell_type": "code",
      "source": [
        "# 입력 문장 예측 함수\n",
        "def predict(predict_sentence):\n",
        "    model.eval()\n",
        "\n",
        "    # 텍스트 클랜징 함수 : 특수문제 제거 및 여러개의 공백 하나로 줄이기\n",
        "    predict_sentence = re.sub(r'[^가-힣A-Za-z0-9 ]', '', predict_sentence)\n",
        "    predict_sentence = re.sub(r'\\s+', ' ', predict_sentence).strip()\n",
        "    print(predict_sentence)\n",
        "    # 입력 문장 토큰화\n",
        "    inputs = tokenizer(\n",
        "        predict_sentence,\n",
        "        return_tensors=\"pt\",\n",
        "        max_length=64,  # 최대 길이 설정\n",
        "        padding=\"max_length\",\n",
        "        truncation=True\n",
        "    )\n",
        "\n",
        "    inputs = {k: v.to(device) for k, v in inputs.items()}\n",
        "\n",
        "    # 모델 예측\n",
        "    with torch.no_grad():\n",
        "        outputs = model(**inputs)\n",
        "        logits = outputs.logits\n",
        "\n",
        "    # 소프트맥스 함수로 확률 계산\n",
        "    probs = F.softmax(logits, dim=1)\n",
        "\n",
        "    # 결과 해석\n",
        "    probs = probs.detach().cpu().numpy()[0]\n",
        "    pred_label = np.argmax(probs)\n",
        "\n",
        "    emotion_labels = [\"기쁨\", \"당황\", \"분노\", \"불안\", \"상처\", \"슬픔\"]\n",
        "    pred_emotion = emotion_labels[pred_label]\n",
        "\n",
        "    # 각 감정에 대한 확률을 퍼센트로 변환하여 출력\n",
        "    for i, (label, prob) in enumerate(zip(emotion_labels, probs)):\n",
        "        print(f\"{label}: {prob * 100:.2f}%\")\n",
        "\n",
        "    # 가장 높은 확률을 차지하는 감정 출력\n",
        "    print(f\"\\n>> 입력하신 내용에서 가장 느껴지는 감정은 '{pred_emotion}'이며, 확률은 {probs[pred_label] * 100:.2f}%입니다.\")"
      ],
      "metadata": {
        "id": "6asWIcGZ6ppz"
      },
      "execution_count": 59,
      "outputs": []
    },
    {
      "cell_type": "code",
      "source": [
        "sentence = '모델이 안돌아간다. 매일같이 날 화나게 한다. 정말이지 열라 짱난다. \\\n",
        "                    누군가가 제발 간절히 도와줬으면 좋겠다. 오늘도 힘들었다.'\n",
        "predict(sentence)"
      ],
      "metadata": {
        "colab": {
          "base_uri": "https://localhost:8080/"
        },
        "id": "SK0xPcK4ANOR",
        "outputId": "a8457371-6e17-430f-978e-eeccd916563d"
      },
      "execution_count": 60,
      "outputs": [
        {
          "output_type": "stream",
          "name": "stdout",
          "text": [
            "모델이 안돌아간다 매일같이 날 화나게 한다 정말이지 열라 짱난다 누군가가 제발 간절히 도와줬으면 좋겠다 오늘도 힘들었다\n",
            "기쁨: 0.21%\n",
            "당황: 0.31%\n",
            "분노: 98.69%\n",
            "불안: 0.31%\n",
            "상처: 0.28%\n",
            "슬픔: 0.20%\n",
            "\n",
            ">> 입력하신 내용에서 가장 느껴지는 감정은 '분노'이며, 확률은 98.69%입니다.\n"
          ]
        }
      ]
    },
    {
      "cell_type": "code",
      "source": [
        "sentence = '나 진짜 객체 때문에 화병날 것 같아. 너무 화가 나. 화가 날때는 무엇을 해야 할까? \\\n",
        "                    남친이랑 통화해야겠다. 통화 좀 하고 올게.'\n",
        "predict(sentence)"
      ],
      "metadata": {
        "colab": {
          "base_uri": "https://localhost:8080/"
        },
        "id": "_UksNyZoMwyR",
        "outputId": "9f3fa084-e138-48af-9e73-0710fa810a19"
      },
      "execution_count": 65,
      "outputs": [
        {
          "output_type": "stream",
          "name": "stdout",
          "text": [
            "나 진짜 객체 때문에 화병날 것 같아 너무 화가 나 화가 날때는 무엇을 해야 할까 남친이랑 통화해야겠다 통화 좀 하고 올게\n",
            "기쁨: 6.08%\n",
            "당황: 0.64%\n",
            "분노: 91.01%\n",
            "불안: 0.72%\n",
            "상처: 0.66%\n",
            "슬픔: 0.89%\n",
            "\n",
            ">> 입력하신 내용에서 가장 느껴지는 감정은 '분노'이며, 확률은 91.01%입니다.\n"
          ]
        }
      ]
    },
    {
      "cell_type": "code",
      "source": [
        "diary = pd.read_csv(\"/content/drive/MyDrive/0000/Class/졸프/Dataset/EveryonesCorpus_diary.csv\")\n",
        "diary = diary[['text']]\n",
        "diary"
      ],
      "metadata": {
        "colab": {
          "base_uri": "https://localhost:8080/",
          "height": 423
        },
        "id": "e8Obe5F1DPS3",
        "outputId": "cc9150bf-166a-4b3b-a257-a2ba1d08677b"
      },
      "execution_count": 66,
      "outputs": [
        {
          "output_type": "execute_result",
          "data": {
            "text/plain": [
              "                                                  text\n",
              "0    일이 하기 싫다. 오늘은 늦게 일어나서 지각을 할 뻔했지만 지각을 하지 않았다. 다...\n",
              "1    어른들의 말이 문득 떠오른다... 크면 다 알게될꺼라는 말들 이제야 문득문득 어릴때...\n",
              "2    요즘 코로나 바이러스가 사회를 공포로 휩싸이게 하고 있다. 처음에는 대수롭지 않게 ...\n",
              "3    9일 하루 함께 있었는데 내게 힘이 생겼다. 다시 누군가를 그대로 용납할 수 있는 ...\n",
              "4    '혼자서? 여행을간다고?' 여행을 혼자간다고하면 제일 첫번째로 듣는 질문이다. 그 ...\n",
              "..                                                 ...\n",
              "292  아침에 너무 기분 좋고 상쾌하게 눈 떴는데 9시 좀 넘은 시간이었다. 이 기세 그대...\n",
              "293  당신께 거룩한 입맞춤을 합니다. 나는 이미 내 마음을 당신께 드렸고, 그것만으로 충...\n",
              "294  누군가는 내가 사는 이곳에 여행을 온다. 매일 가는 두부집이 맛집이라고 주말만 되면...\n",
              "295  요즘 날이 추워 길냥이들의 물이 얼어 냥이들이 마시지 못하고 있다. 오늘도 걱정이 ...\n",
              "296  조용한 카페에 앉아 은근히 들려오는 노랫소리를 흥얼거리며, 책을 읽고, 생각나는 것...\n",
              "\n",
              "[297 rows x 1 columns]"
            ],
            "text/html": [
              "\n",
              "  <div id=\"df-6117af36-8542-40cb-b3d9-37bc0ff5402f\" class=\"colab-df-container\">\n",
              "    <div>\n",
              "<style scoped>\n",
              "    .dataframe tbody tr th:only-of-type {\n",
              "        vertical-align: middle;\n",
              "    }\n",
              "\n",
              "    .dataframe tbody tr th {\n",
              "        vertical-align: top;\n",
              "    }\n",
              "\n",
              "    .dataframe thead th {\n",
              "        text-align: right;\n",
              "    }\n",
              "</style>\n",
              "<table border=\"1\" class=\"dataframe\">\n",
              "  <thead>\n",
              "    <tr style=\"text-align: right;\">\n",
              "      <th></th>\n",
              "      <th>text</th>\n",
              "    </tr>\n",
              "  </thead>\n",
              "  <tbody>\n",
              "    <tr>\n",
              "      <th>0</th>\n",
              "      <td>일이 하기 싫다. 오늘은 늦게 일어나서 지각을 할 뻔했지만 지각을 하지 않았다. 다...</td>\n",
              "    </tr>\n",
              "    <tr>\n",
              "      <th>1</th>\n",
              "      <td>어른들의 말이 문득 떠오른다... 크면 다 알게될꺼라는 말들 이제야 문득문득 어릴때...</td>\n",
              "    </tr>\n",
              "    <tr>\n",
              "      <th>2</th>\n",
              "      <td>요즘 코로나 바이러스가 사회를 공포로 휩싸이게 하고 있다. 처음에는 대수롭지 않게 ...</td>\n",
              "    </tr>\n",
              "    <tr>\n",
              "      <th>3</th>\n",
              "      <td>9일 하루 함께 있었는데 내게 힘이 생겼다. 다시 누군가를 그대로 용납할 수 있는 ...</td>\n",
              "    </tr>\n",
              "    <tr>\n",
              "      <th>4</th>\n",
              "      <td>'혼자서? 여행을간다고?' 여행을 혼자간다고하면 제일 첫번째로 듣는 질문이다. 그 ...</td>\n",
              "    </tr>\n",
              "    <tr>\n",
              "      <th>...</th>\n",
              "      <td>...</td>\n",
              "    </tr>\n",
              "    <tr>\n",
              "      <th>292</th>\n",
              "      <td>아침에 너무 기분 좋고 상쾌하게 눈 떴는데 9시 좀 넘은 시간이었다. 이 기세 그대...</td>\n",
              "    </tr>\n",
              "    <tr>\n",
              "      <th>293</th>\n",
              "      <td>당신께 거룩한 입맞춤을 합니다. 나는 이미 내 마음을 당신께 드렸고, 그것만으로 충...</td>\n",
              "    </tr>\n",
              "    <tr>\n",
              "      <th>294</th>\n",
              "      <td>누군가는 내가 사는 이곳에 여행을 온다. 매일 가는 두부집이 맛집이라고 주말만 되면...</td>\n",
              "    </tr>\n",
              "    <tr>\n",
              "      <th>295</th>\n",
              "      <td>요즘 날이 추워 길냥이들의 물이 얼어 냥이들이 마시지 못하고 있다. 오늘도 걱정이 ...</td>\n",
              "    </tr>\n",
              "    <tr>\n",
              "      <th>296</th>\n",
              "      <td>조용한 카페에 앉아 은근히 들려오는 노랫소리를 흥얼거리며, 책을 읽고, 생각나는 것...</td>\n",
              "    </tr>\n",
              "  </tbody>\n",
              "</table>\n",
              "<p>297 rows × 1 columns</p>\n",
              "</div>\n",
              "    <div class=\"colab-df-buttons\">\n",
              "\n",
              "  <div class=\"colab-df-container\">\n",
              "    <button class=\"colab-df-convert\" onclick=\"convertToInteractive('df-6117af36-8542-40cb-b3d9-37bc0ff5402f')\"\n",
              "            title=\"Convert this dataframe to an interactive table.\"\n",
              "            style=\"display:none;\">\n",
              "\n",
              "  <svg xmlns=\"http://www.w3.org/2000/svg\" height=\"24px\" viewBox=\"0 -960 960 960\">\n",
              "    <path d=\"M120-120v-720h720v720H120Zm60-500h600v-160H180v160Zm220 220h160v-160H400v160Zm0 220h160v-160H400v160ZM180-400h160v-160H180v160Zm440 0h160v-160H620v160ZM180-180h160v-160H180v160Zm440 0h160v-160H620v160Z\"/>\n",
              "  </svg>\n",
              "    </button>\n",
              "\n",
              "  <style>\n",
              "    .colab-df-container {\n",
              "      display:flex;\n",
              "      gap: 12px;\n",
              "    }\n",
              "\n",
              "    .colab-df-convert {\n",
              "      background-color: #E8F0FE;\n",
              "      border: none;\n",
              "      border-radius: 50%;\n",
              "      cursor: pointer;\n",
              "      display: none;\n",
              "      fill: #1967D2;\n",
              "      height: 32px;\n",
              "      padding: 0 0 0 0;\n",
              "      width: 32px;\n",
              "    }\n",
              "\n",
              "    .colab-df-convert:hover {\n",
              "      background-color: #E2EBFA;\n",
              "      box-shadow: 0px 1px 2px rgba(60, 64, 67, 0.3), 0px 1px 3px 1px rgba(60, 64, 67, 0.15);\n",
              "      fill: #174EA6;\n",
              "    }\n",
              "\n",
              "    .colab-df-buttons div {\n",
              "      margin-bottom: 4px;\n",
              "    }\n",
              "\n",
              "    [theme=dark] .colab-df-convert {\n",
              "      background-color: #3B4455;\n",
              "      fill: #D2E3FC;\n",
              "    }\n",
              "\n",
              "    [theme=dark] .colab-df-convert:hover {\n",
              "      background-color: #434B5C;\n",
              "      box-shadow: 0px 1px 3px 1px rgba(0, 0, 0, 0.15);\n",
              "      filter: drop-shadow(0px 1px 2px rgba(0, 0, 0, 0.3));\n",
              "      fill: #FFFFFF;\n",
              "    }\n",
              "  </style>\n",
              "\n",
              "    <script>\n",
              "      const buttonEl =\n",
              "        document.querySelector('#df-6117af36-8542-40cb-b3d9-37bc0ff5402f button.colab-df-convert');\n",
              "      buttonEl.style.display =\n",
              "        google.colab.kernel.accessAllowed ? 'block' : 'none';\n",
              "\n",
              "      async function convertToInteractive(key) {\n",
              "        const element = document.querySelector('#df-6117af36-8542-40cb-b3d9-37bc0ff5402f');\n",
              "        const dataTable =\n",
              "          await google.colab.kernel.invokeFunction('convertToInteractive',\n",
              "                                                    [key], {});\n",
              "        if (!dataTable) return;\n",
              "\n",
              "        const docLinkHtml = 'Like what you see? Visit the ' +\n",
              "          '<a target=\"_blank\" href=https://colab.research.google.com/notebooks/data_table.ipynb>data table notebook</a>'\n",
              "          + ' to learn more about interactive tables.';\n",
              "        element.innerHTML = '';\n",
              "        dataTable['output_type'] = 'display_data';\n",
              "        await google.colab.output.renderOutput(dataTable, element);\n",
              "        const docLink = document.createElement('div');\n",
              "        docLink.innerHTML = docLinkHtml;\n",
              "        element.appendChild(docLink);\n",
              "      }\n",
              "    </script>\n",
              "  </div>\n",
              "\n",
              "\n",
              "<div id=\"df-9c2ae57b-13a4-45d0-a22a-5998cd6b64b0\">\n",
              "  <button class=\"colab-df-quickchart\" onclick=\"quickchart('df-9c2ae57b-13a4-45d0-a22a-5998cd6b64b0')\"\n",
              "            title=\"Suggest charts\"\n",
              "            style=\"display:none;\">\n",
              "\n",
              "<svg xmlns=\"http://www.w3.org/2000/svg\" height=\"24px\"viewBox=\"0 0 24 24\"\n",
              "     width=\"24px\">\n",
              "    <g>\n",
              "        <path d=\"M19 3H5c-1.1 0-2 .9-2 2v14c0 1.1.9 2 2 2h14c1.1 0 2-.9 2-2V5c0-1.1-.9-2-2-2zM9 17H7v-7h2v7zm4 0h-2V7h2v10zm4 0h-2v-4h2v4z\"/>\n",
              "    </g>\n",
              "</svg>\n",
              "  </button>\n",
              "\n",
              "<style>\n",
              "  .colab-df-quickchart {\n",
              "      --bg-color: #E8F0FE;\n",
              "      --fill-color: #1967D2;\n",
              "      --hover-bg-color: #E2EBFA;\n",
              "      --hover-fill-color: #174EA6;\n",
              "      --disabled-fill-color: #AAA;\n",
              "      --disabled-bg-color: #DDD;\n",
              "  }\n",
              "\n",
              "  [theme=dark] .colab-df-quickchart {\n",
              "      --bg-color: #3B4455;\n",
              "      --fill-color: #D2E3FC;\n",
              "      --hover-bg-color: #434B5C;\n",
              "      --hover-fill-color: #FFFFFF;\n",
              "      --disabled-bg-color: #3B4455;\n",
              "      --disabled-fill-color: #666;\n",
              "  }\n",
              "\n",
              "  .colab-df-quickchart {\n",
              "    background-color: var(--bg-color);\n",
              "    border: none;\n",
              "    border-radius: 50%;\n",
              "    cursor: pointer;\n",
              "    display: none;\n",
              "    fill: var(--fill-color);\n",
              "    height: 32px;\n",
              "    padding: 0;\n",
              "    width: 32px;\n",
              "  }\n",
              "\n",
              "  .colab-df-quickchart:hover {\n",
              "    background-color: var(--hover-bg-color);\n",
              "    box-shadow: 0 1px 2px rgba(60, 64, 67, 0.3), 0 1px 3px 1px rgba(60, 64, 67, 0.15);\n",
              "    fill: var(--button-hover-fill-color);\n",
              "  }\n",
              "\n",
              "  .colab-df-quickchart-complete:disabled,\n",
              "  .colab-df-quickchart-complete:disabled:hover {\n",
              "    background-color: var(--disabled-bg-color);\n",
              "    fill: var(--disabled-fill-color);\n",
              "    box-shadow: none;\n",
              "  }\n",
              "\n",
              "  .colab-df-spinner {\n",
              "    border: 2px solid var(--fill-color);\n",
              "    border-color: transparent;\n",
              "    border-bottom-color: var(--fill-color);\n",
              "    animation:\n",
              "      spin 1s steps(1) infinite;\n",
              "  }\n",
              "\n",
              "  @keyframes spin {\n",
              "    0% {\n",
              "      border-color: transparent;\n",
              "      border-bottom-color: var(--fill-color);\n",
              "      border-left-color: var(--fill-color);\n",
              "    }\n",
              "    20% {\n",
              "      border-color: transparent;\n",
              "      border-left-color: var(--fill-color);\n",
              "      border-top-color: var(--fill-color);\n",
              "    }\n",
              "    30% {\n",
              "      border-color: transparent;\n",
              "      border-left-color: var(--fill-color);\n",
              "      border-top-color: var(--fill-color);\n",
              "      border-right-color: var(--fill-color);\n",
              "    }\n",
              "    40% {\n",
              "      border-color: transparent;\n",
              "      border-right-color: var(--fill-color);\n",
              "      border-top-color: var(--fill-color);\n",
              "    }\n",
              "    60% {\n",
              "      border-color: transparent;\n",
              "      border-right-color: var(--fill-color);\n",
              "    }\n",
              "    80% {\n",
              "      border-color: transparent;\n",
              "      border-right-color: var(--fill-color);\n",
              "      border-bottom-color: var(--fill-color);\n",
              "    }\n",
              "    90% {\n",
              "      border-color: transparent;\n",
              "      border-bottom-color: var(--fill-color);\n",
              "    }\n",
              "  }\n",
              "</style>\n",
              "\n",
              "  <script>\n",
              "    async function quickchart(key) {\n",
              "      const quickchartButtonEl =\n",
              "        document.querySelector('#' + key + ' button');\n",
              "      quickchartButtonEl.disabled = true;  // To prevent multiple clicks.\n",
              "      quickchartButtonEl.classList.add('colab-df-spinner');\n",
              "      try {\n",
              "        const charts = await google.colab.kernel.invokeFunction(\n",
              "            'suggestCharts', [key], {});\n",
              "      } catch (error) {\n",
              "        console.error('Error during call to suggestCharts:', error);\n",
              "      }\n",
              "      quickchartButtonEl.classList.remove('colab-df-spinner');\n",
              "      quickchartButtonEl.classList.add('colab-df-quickchart-complete');\n",
              "    }\n",
              "    (() => {\n",
              "      let quickchartButtonEl =\n",
              "        document.querySelector('#df-9c2ae57b-13a4-45d0-a22a-5998cd6b64b0 button');\n",
              "      quickchartButtonEl.style.display =\n",
              "        google.colab.kernel.accessAllowed ? 'block' : 'none';\n",
              "    })();\n",
              "  </script>\n",
              "</div>\n",
              "\n",
              "  <div id=\"id_fc87628d-f21e-4199-b49e-657cf0cd2b2a\">\n",
              "    <style>\n",
              "      .colab-df-generate {\n",
              "        background-color: #E8F0FE;\n",
              "        border: none;\n",
              "        border-radius: 50%;\n",
              "        cursor: pointer;\n",
              "        display: none;\n",
              "        fill: #1967D2;\n",
              "        height: 32px;\n",
              "        padding: 0 0 0 0;\n",
              "        width: 32px;\n",
              "      }\n",
              "\n",
              "      .colab-df-generate:hover {\n",
              "        background-color: #E2EBFA;\n",
              "        box-shadow: 0px 1px 2px rgba(60, 64, 67, 0.3), 0px 1px 3px 1px rgba(60, 64, 67, 0.15);\n",
              "        fill: #174EA6;\n",
              "      }\n",
              "\n",
              "      [theme=dark] .colab-df-generate {\n",
              "        background-color: #3B4455;\n",
              "        fill: #D2E3FC;\n",
              "      }\n",
              "\n",
              "      [theme=dark] .colab-df-generate:hover {\n",
              "        background-color: #434B5C;\n",
              "        box-shadow: 0px 1px 3px 1px rgba(0, 0, 0, 0.15);\n",
              "        filter: drop-shadow(0px 1px 2px rgba(0, 0, 0, 0.3));\n",
              "        fill: #FFFFFF;\n",
              "      }\n",
              "    </style>\n",
              "    <button class=\"colab-df-generate\" onclick=\"generateWithVariable('diary')\"\n",
              "            title=\"Generate code using this dataframe.\"\n",
              "            style=\"display:none;\">\n",
              "\n",
              "  <svg xmlns=\"http://www.w3.org/2000/svg\" height=\"24px\"viewBox=\"0 0 24 24\"\n",
              "       width=\"24px\">\n",
              "    <path d=\"M7,19H8.4L18.45,9,17,7.55,7,17.6ZM5,21V16.75L18.45,3.32a2,2,0,0,1,2.83,0l1.4,1.43a1.91,1.91,0,0,1,.58,1.4,1.91,1.91,0,0,1-.58,1.4L9.25,21ZM18.45,9,17,7.55Zm-12,3A5.31,5.31,0,0,0,4.9,8.1,5.31,5.31,0,0,0,1,6.5,5.31,5.31,0,0,0,4.9,4.9,5.31,5.31,0,0,0,6.5,1,5.31,5.31,0,0,0,8.1,4.9,5.31,5.31,0,0,0,12,6.5,5.46,5.46,0,0,0,6.5,12Z\"/>\n",
              "  </svg>\n",
              "    </button>\n",
              "    <script>\n",
              "      (() => {\n",
              "      const buttonEl =\n",
              "        document.querySelector('#id_fc87628d-f21e-4199-b49e-657cf0cd2b2a button.colab-df-generate');\n",
              "      buttonEl.style.display =\n",
              "        google.colab.kernel.accessAllowed ? 'block' : 'none';\n",
              "\n",
              "      buttonEl.onclick = () => {\n",
              "        google.colab.notebook.generateWithVariable('diary');\n",
              "      }\n",
              "      })();\n",
              "    </script>\n",
              "  </div>\n",
              "\n",
              "    </div>\n",
              "  </div>\n"
            ],
            "application/vnd.google.colaboratory.intrinsic+json": {
              "type": "dataframe",
              "variable_name": "diary",
              "summary": "{\n  \"name\": \"diary\",\n  \"rows\": 297,\n  \"fields\": [\n    {\n      \"column\": \"text\",\n      \"properties\": {\n        \"dtype\": \"string\",\n        \"num_unique_values\": 297,\n        \"samples\": [\n          \"\\uadf8\\ub807\\ub2e4. \\ub098\\ub294 \\uc798\\ub838\\ub2e4. \\uc0dd\\uac01\\ubcf4\\ub2e4 \\uae30\\ubd84\\uc774 \\ub098\\uc058\\uac70\\ub098 \\uc808\\ub9dd\\uc2a4\\ub7fd\\uc9c4 \\uc54a\\uc558\\ub2e4. \\ube44\\uc804\\uc5c6\\ub294 \\ud68c\\uc0ac \\uc77c\\uc5d0 \\uc9c0\\uccd0\\uc788\\uc5c8\\uae30 \\ub54c\\ubb38\\uc77c\\uc9c0\\ub3c4 \\ubab0\\ub790\\ub2e4. \\uac00\\uc7a5 \\uba3c\\uc800 \\ub4e0 \\uc0dd\\uac01\\uc740 '\\uadf8\\ub798\\ub3c4 \\ud1f4\\uc9c1\\uae08\\uc740 \\ubc1b\\uc744 \\uc218 \\uc788\\uaca0\\ub124' \\uc600\\ub2e4. \\uc77c\\ub144 \\ubc18 \\uc815\\ub3c4 \\ub2e4\\ub154\\uc73c\\ub2c8\\uae4c \\uba87 \\ub2ec \\ub3d9\\uc548 \\ub3c8\\uc740 \\ubc1b\\uc744 \\uc218 \\uc788\\uaca0\\ub124. \\uacf5\\uc81c\\ub97c \\ub123\\uace0 \\uc788\\uc5c8\\uae30 \\ub54c\\ubb38\\uc5d0 \\uadf8\\uac8c \\uc880 \\uc544\\uae5d\\uae34 \\ud588\\uc9c0\\ub9cc \\ub0b8 \\ub9cc\\ud07c \\ub2e4\\uc2dc \\ub3cc\\ub824\\ubc1b\\uc744\\uc21c \\uc788\\uc5c8\\uc73c\\ub2c8 \\uadf8\\ub9ac \\uac71\\uc815\\ub418\\uc9c4 \\uc54a\\uc558\\ub2e4. \\uc194\\uc9c1\\ud788 \\ub9d0\\ud558\\uc790\\uba74 \\ub108\\ubb34 \\uc9c0\\uccd0\\uc788\\uc5c8\\uae30 \\ub54c\\ubb38\\uc5d0, \\uba87\\ub2ec\\ub3d9\\uc548 \\ud3b8\\ud55c \\ubc31\\uc218\\uc0dd\\ud65c\\uc744 \\ud560 \\uc218 \\uc788\\ub2e4\\ub294 \\uc0ac\\uc2e4\\uc5d0 \\ub450\\uadfc\\uac70\\ub9ac\\uae30 \\uae4c\\uc9c0 \\ud588\\ub2e4. \\uc5b4\\ub514\\ub4e0 \\uc774 \\ud55c\\ubab8 \\uc77c\\ud560 \\uacf3\\uc774 \\uc5c6\\uaca0\\ub294\\uac00. \\ubc14\\uc57c\\ud750\\ub85c \\uc0c8\\ub85c\\uc6b4 \\uc2dc\\uc791\\uc774\\uc5c8\\ub2e4. \\ub77c\\uace0 \\uc0dd\\uac01\\ud558\\uae30\\ub85c \\ud588\\ub2e4.\",\n          \"\\ucd08\\ub85d\\uc774\\uac00 \\uc624\\ub298\\ub3c4 \\ubab8\\uc774 \\uc544\\ud320\\ub2e4. \\ucd08\\ub85d\\uc774\\ub294 \\uc791\\uace0 \\uadc0\\uc5ec\\uc6b4 \\uc6b0\\ub9ac\\uc9d1 \\ub9c9\\ub0b4\\uc778\\ub370 \\uac15\\uc544\\uc9c0 \\ub098\\uc774\\ub85c\\ub294 \\uc5b4\\ub290\\uc0c8 \\ub178\\uc778\\uc774\\ub2e4. \\uc5b4\\ub5bb\\uac8c \\uc774\\ub7f4\\uc218\\uc788\\ub098. \\ud750\\ub978 \\uc2dc\\uac04\\uc774 \\uc18d\\uc0c1\\ud558\\ub2e4. \\uc80a\\uc744 \\uc801\\uc5d4 \\ubb58 \\uba39\\uc5b4\\ub3c4 \\uace7\\uc798 \\uc18c\\ud654\\ud558\\ub354\\ub2c8 \\uc774\\uc820 \\uc870\\uae08\\ub9cc \\uacfc\\uc2dd\\ud558\\uac70\\ub098 \\uc18d\\uc774 \\ubc1b\\uc9c0 \\uc54a\\ub294\\uac78 \\uba39\\uc73c\\uba74 \\ubc30\\uac00 \\uc544\\ud30c \\ub059\\ub059\\uc553\\ub294\\ub2e4. \\uc624\\ub298 \\uc544\\ud320\\ub358 \\uac74 \\uc5b4\\uc81c \\ud6d4\\uccd0\\uba39\\uc740 \\ub545\\ucf69\\uc774 \\ubb38\\uc81c\\uc600\\ub358 \\uac83 \\uac19\\uc740\\ub370 \\uc778\\uac04\\uc774 \\uc548\\uc8fc\\ub824\\ud574\\ub3c4 \\uc790\\uae30\\uac00 \\uc2a5 \\uc640\\uc11c \\ube8f\\uc5b4\\uba39\\ub294\\uac74 \\ub9c9\\uc544\\ub0b4\\uae30\\uac00 \\ud798\\ub4e4\\ub2e4. \\uac70\\ud488 \\uc11e\\uc778 \\ud770\\ud1a0\\ub97c \\uc794\\ub729\\ud558\\uace0 \\ubd80\\ub4e4\\ubd80\\ub4e4 \\ubab8\\uc744 \\ub5a8\\uba70 \\ub091\\ub091 \\uc2e0\\uc74c\\uae4c\\uc9c0 \\ud588\\ub2e4.  \\uadf8\\ub7ec\\ub2e4 \\uc628 \\uac00\\uc871\\uc774 \\ub180\\ub77c\\uc11c \\uc637\\uc744 \\uaebc\\ub0b4\\uc785\\uace0 \\ubcd1\\uc6d0\\uac08 \\uc900\\ube44\\ub97c \\ud558\\uc790 \\uc2e0\\ub098\\uc11c \\ub6f0\\uc5b4\\ub2e4\\ub2c8\\ub294 \\uac78 \\ubcf4\\ub2c8 \\uc2ec\\ud558\\uac8c \\uc544\\ud504\\uc9c4 \\uc54a\\uc740\\uac83\\uac19\\uc544 \\uc77c\\ub2e8\\uc740 \\uc548\\uc2ec\\ud588\\uc9c0\\ub9cc... \\ub178\\uacac\\uacfc \\ud568\\uaed8\\ud558\\ub294 \\uc0b6\\uc740 \\uc5b8\\uc81c\\ub098 \\uc774\\ub807\\ub2e4.  \\uc18d\\uc0c1\\ud558\\uace0 \\uc2ac\\ud504\\uace0..  \\uc18d\\uc0c1\\ud574\\ud558\\uace0 \\uc788\\uc73c\\uba74 \\uc606\\uc5d0 \\uc640\\uc11c \\uc65c\\uadf8\\ub798?\\ud558\\uace0 \\ub208\\uc73c\\ub85c \\ub9d0\\uc744 \\uac70\\ub294 \\ucd08\\ub85d\\uc774\\ub97c \\ub9cc\\uc9c0\\uba70 \\ubd04\\uc774\\uc624\\uba74 \\uac74\\uac15\\uac80\\uc9c4\\uc744 \\uc2dc\\ucf1c\\uc57c\\uaca0\\ub2e4\\uace0 \\ub2e4\\uc9d0\\ud588\\ub2e4.\",\n          \"\\uc774 \\uc555\\ubc15\\uac10\\uc5d0\\uc11c \\uc5b8\\uc81c\\ucbe4 \\ubc97\\uc5b4\\ub0a0 \\uc218 \\uc788\\uc744\\uae4c? 2\\ub144\\uc9f8 \\uc9d1\\uc5d0\\uc11c \\uc77c\\ub9cc \\ubc1b\\uc544\\uc11c \\uc5b4\\ub290 \\ub2ec\\uc5d4 \\uc6d4 150\\uc815\\ub3c4 \\ubc8c\\uc9c0\\ub9cc \\ubabb\\ubc84\\ub294 \\ub2ec\\uc774 3\\uac1c\\uc6d4\\uc774 \\ud6cc\\uca4d \\ub118\\uc744\\ub54c\\ub3c4\\uc788\\uace0 \\ub0a8\\ub4e4\\uc740 \\ub300\\ub9ac\\ub3c4 \\ub2ec\\uace0 \\uacfc\\uc7a5\\ub3c4 \\ub2e8\\ub2e4\\ub294\\ub370 \\ucde8\\uc5c5\\uc0ac\\uc774\\ud2b8\\ub97c \\ub4e4\\ub77d\\uac70\\ub824\\ub3c4 \\uc2a4\\ud06c\\ub7a9\\ub9cc \\ud560 \\ubfd0\\uc774\\uc9c0 \\ub531\\ud788 \\uc5b4\\ub518\\uac00 \\uc9c0\\uc6d0\\ud558\\uc9c0 \\uc54a\\ub294 \\uadf8\\ub7f0 \\uc5b4\\uc911\\uac04\\ud55c \\ud504\\ub9ac\\ub79c\\uc11c\\uc774\\uc790 \\ubc18\\ubc31\\uc218. \\uace0\\uc815\\uc218\\uc785\\uc744 \\uc6d0\\ud558\\uc9c0\\ub9cc \\ud68c\\uc0ac\\uc5d0 \\ub4e4\\uc5b4\\uac00\\uae30\\uac00 \\uc544\\uc9c1\\uae4c\\uc9c0\\ub3c4 \\uac81\\ub098\\ub294 \\uadf8\\ub7f0 \\uc0ac\\ub78c. \\uadf8\\ub9ac\\uace0 \\uc8fc\\ubcc0 \\uc2dc\\uc120\\uc5d0 \\ub300\\ud55c \\uc555\\ubc15\\uac10\\uc5d0 \\uc870\\uae08\\uc529 \\uc228\\uc774 \\ub9c9\\ud600\\uac00\\uace0 \\uc788\\ub294 \\uadf8\\ub7f0\\uc0ac\\ub78c. \\uccab \\ub2e8\\ucd94\\ub97c \\uc798 \\ub07c\\uc6e0\\uc5b4\\uc57c \\ud588\\ub294\\ub370 \\ub098\\ub294 \\uc65c \\uadf8\\ub7f0 \\ud68c\\uc0ac\\ub9cc \\ub2e4\\ub140\\uc11c \\uadf8 \\uae30\\uc5b5\\uc774 \\ub9e4 \\uc21c\\uac04 \\ub9c8\\ub2e4 \\uc0dd\\uac01\\uc774\\ub9c8\\uc11c \\uba38\\ubb47\\uac70\\ub9ac\\uace0 \\uac71\\uc815\\ubd80\\ud130 \\uc55e\\uc11c\\ub294\\uc9c0. \\uc55e\\uc790\\ub9ac\\uac00 \\uc774\\uc81c 3\\uc774 \\ub418\\uace0\\ub3c4 \\ud55c\\uc0b4\\uc774 \\ub354 \\uba39\\uc5c8\\ub294\\ub370 \\uc9d1\\uc548\\uc5d0\\uc11c \\uac71\\uc815\\ud558\\ub294 \\uc5c4\\ub9c8\\ub97c \\uc0dd\\uac01\\ud574\\uc11c\\ub77c\\ub3c4 \\ud6cc\\ud6cc \\ud138\\uc5b4\\ubc84\\ub9ac\\uace0 \\ub3c8\\uc744 \\ubc8c\\uc5b4\\uc57c \\ud558\\ub294\\ub370, \\ub3c8\\ub3c8\\ub3c8. \\uc9c0\\uae08 \\uae00\\uc744 \\uc4f0\\uba74\\uc11c\\ub3c4 \\ub3c8\\ubc16\\uc5d0 \\uc0dd\\uac01\\uc744 \\uc548\\ud558\\ub294 \\ub0b4 \\uc790\\uc2e0\\uc774 \\uc2eb\\ub2e4\\uac00\\ub3c4 \\ub3c8\\ubc8c\\ub824\\uace0 \\ud68c\\uc0ac\\uac00\\uace0 \\uc2f6\\uc5b4\\ud558\\ub294\\uac70\\uc9c0 \\ud55c\\ub2e4. \\ud558\\ub8e8\\uc5d0\\ub3c4 \\uba87\\ubc88\\uc529 \\ubc14\\ub00c\\ub294 \\uc0dd\\uac01\\uc774 \\uc57c\\uc18d\\ud558\\ub2e4. \\uc774\\ub300\\ub85c \\ub0b4\\uac00 \\ud558\\uace0\\uc2f6\\uc740 \\uac70 \\ud558\\uba74\\uc11c \\uc0b4\\uc790. \\ub3c8\\uc880 \\ubabb\\ubc8c\\uba74 \\uc5b4\\ub54c \\ud558\\ub2e4\\uac00 \\uce58\\ud0a8\\uc744 \\uc544\\ubb34\\uc0dd\\uac01\\uc5c6\\uc774 \\uc0ac\\uba39\\uace0\\uc2f6\\ub2e4. \\uc544 \\uc774\\uac78 \\uba39\\uc5b4\\ubc84\\ub9ac\\uba74 \\ud1b5\\uc7a5\\uc5d0 \\uc5bc\\ub9c8\\uac00 \\ub0a8\\uace0 \\uc774\\uac8c \\ub0a8\\uc73c\\uba74 \\ud558\\uba74\\uc11c 1-2\\ub9cc\\uc6d0 \\uc4f0\\ub294\\uac83\\uc870\\ucc28 \\uc0dd\\uac01\\ud558\\uac8c \\ud558\\ub294 \\ud604\\uc7ac\\uc758 \\ub0b4 \\uc0c1\\ud0dc\\uac00 \\uc2eb\\uc5b4\\uc11c \\ub098\\ub294 \\ucde8\\uc9c1\\uc744 \\ud574\\uc57c\\ub9cc \\ud560\\uac83\\uac19\\ub2e4. \\uc4f0\\uace0\\uc788\\ub294 \\uc9c0\\uae08\\ub3c4 \\ud55c\\uc228\\uc774 \\ub098\\ub294\\ub370 \\uba74\\uc811\\uc5d0 \\uac00\\uc11c \\ubb34\\uc2a8 \\ub9d0\\uc744 \\ud574\\uc57c\\ud560\\uae4c. 2\\ub144\\ub3d9\\uc548 \\ubb58 \\ud588\\ub098 \\ubb3c\\uc5b4\\ubcf4\\uba74 \\uc5b4\\ub5a4 \\ub300\\ub2f5\\uc744 \\ud574\\uc57c\\ud560\\uae4c. \\uc194\\uc9c1\\ud558\\uac8c \\ub9d0\\ud574\\uc57c\\ud560\\uae4c, \\uc544\\ub2c8\\uba74 \\ub098\\ub97c \\uc704\\ud55c \\uac70\\uc9d3\\ub9d0\\uc744 \\uc870\\uae08 \\ubcf4\\ud0dc\\ub294\\uac8c \\ub098\\uc744\\uae4c. \\uc790\\uae30\\uc18c\\uac1c\\uc11c\\ub97c \\uc218\\uc815\\ud558\\uba74\\uc11c\\ub3c4 2\\ub144\\uac04 \\ud588\\ub358 \\uc791\\uc5c5\\ubb3c\\uacfc \\uc544\\ub974\\ubc14\\uc774\\ud2b8\\ub97c \\uc4f0\\uba74\\uc11c\\ub3c4 \\uc774 \\ub0b4\\uc6a9\\uc744 \\uc4f0\\ub294\\uac83\\uc774 \\ub9de\\ub294\\uac83\\uc778\\uac00 \\ud558\\ub294 \\uc0dd\\uac01\\uacfc \\ubab0\\ub824\\uc624\\ub294 \\uc790\\uad34\\uac10\\ub3c4 \\ud55c\\ubaab\\uc788\\ub2e4. \\ud798\\ub0b4\\ub77c\\ub294 \\ub9d0\\uc744 \\ub4e3\\uace0\\uc2f6\\ub2e4\\uac70\\ub098 \\ud558\\ub294\\uac74 \\uc544\\ub2c8\\ub2e4. \\uadf8\\ub0e5 \\ub0b4 \\uc774\\uc57c\\uae30\\ub97c \\ub204\\uad70\\uac00\\uc5d0\\uac8c \\ud480\\uc5b4\\ubc84\\ub9ac\\uace0\\uc2f6\\ub2e4. \\uadf8\\ub7fc \\uc544\\uc8fc \\uc870\\uadf8\\ub9c8\\ud55c \\uac80\\uc815 \\ub369\\uc5b4\\ub9ac\\ub77c\\ub3c4 \\ub9c8\\uc74c\\uc5d0\\uc11c \\ub35c\\uc5b4\\uc9c8\\uac83 \\uac19\\uc73c\\ub2c8\\uae4c. \\uadf8\\ub7f0\\ub370 \\ub204\\uac00 \\ub0b4 \\uc774 \\uc774\\uc57c\\uae30\\ub97c \\ubcf4\\uace0 \\ud55c\\uc2ec\\ud558\\ub2e4 \\uc0dd\\uac01\\ud558\\uba74 \\uc5b4\\uca4c\\ub098. \\uadf8\\ub7fc \\uadf8 \\ubc18\\uc751\\uc5d0 \\ub098\\ub294 \\ud55c\\uc2ec\\ud55c \\uc778\\uac04\\uc774\\uad6c\\ub098 \\ud560\\uae4c? \\uadf8\\ub807\\uac8c \\ub098\\ub294 \\uc624\\ub298\\ub3c4 \\uc5ec\\ub7ec\\ubc88\\uc774\\ub098 \\ubc14\\ub00c\\ub294 \\ub0b4 \\uc0dd\\uac01\\uc5d0 \\ud55c\\uc190\\uc5d4 \\ud30c\\uc2a4\\ub97c \\ubd99\\ud788\\uace0 \\ud0c0\\uc790\\ub97c \\ub204\\ub974\\uba74\\uc11c \\uc544\\ubb34\\ub3c4 \\ubabb\\ubcfc \\ub0b4 \\uc774\\uc57c\\uae30\\ub97c \\uc4f4\\ub2e4. \\ub0b4 \\uc77c\\uae30\\uc7a5\\uc774 \\ubd80\\ub514 \\ub098\\uc758 \\uc774\\uc57c\\uae30\\ub97c \\uc798 \\ub2f4\\uace0 \\uc788\\uc5b4 \\uc8fc\\uae30\\ub97c..\"\n        ],\n        \"semantic_type\": \"\",\n        \"description\": \"\"\n      }\n    }\n  ]\n}"
            }
          },
          "metadata": {},
          "execution_count": 66
        }
      ]
    },
    {
      "cell_type": "code",
      "source": [
        "sentence = diary.text[2]\n",
        "predict(sentence)"
      ],
      "metadata": {
        "colab": {
          "base_uri": "https://localhost:8080/"
        },
        "id": "bZcxGd1AFboa",
        "outputId": "b80a4851-7b11-45c4-940b-80729ab32c80"
      },
      "execution_count": 74,
      "outputs": [
        {
          "output_type": "stream",
          "name": "stdout",
          "text": [
            "요즘 코로나 바이러스가 사회를 공포로 휩싸이게 하고 있다 처음에는 대수롭지 않게 생각하던 사람들도 이제는 심각성을 깨닫고 사람들의 대화주제도 늘 코로나 바이러스이다 코로나 바이러스는 우리의 일상을 순식간에 바꿔버렸다 4살 아들과 함께 매주 주말이면 어디든 나가는 우리집은 주말 내내 집콕을 하며 시간을 보내도록 바꾸었고 거리의 사람들과 관공서 음식점의 음식하시는 분들까지 마스크로 채워버렸다 그리고 타인에 대한 경계 불안감을 만들었다 요즘 4살 아들에게 이런 상황을 설명하며 항상 마스크를 껴야 한다고 설득하고 있다 평소 내가 불만이었던 집돌이 남편과 집돌이 아들의 성향이 고마워졌다 사람들의 불안감은 마스크에서 잘 나타난다 마스크는 하루밤 자고 나면 가격이 올라있다 어제의 가격이 가장 저렴한 가격이 되어 있다 이런 상황속에서 마스크를 대량구매해 둔 것을 되파는 사람들도 생겨나고 있다 대단한 생존력이 아닐수 없다 항상 위기에서 기회가 온다고 하는데 기회를 잘 포착하는 능력자들에 틀림 없다 더 이상 확진자가 늘어나지 않고 사망자 없이 잘 종식되고 마무리되길 바란다\n",
            "기쁨: 0.76%\n",
            "당황: 0.90%\n",
            "분노: 5.42%\n",
            "불안: 74.75%\n",
            "상처: 2.66%\n",
            "슬픔: 15.52%\n",
            "\n",
            ">> 입력하신 내용에서 가장 느껴지는 감정은 '불안'이며, 확률은 74.75%입니다.\n"
          ]
        }
      ]
    },
    {
      "cell_type": "code",
      "source": [
        "sentence = diary.text[76]\n",
        "predict(sentence)"
      ],
      "metadata": {
        "colab": {
          "base_uri": "https://localhost:8080/"
        },
        "id": "gFKBCLshFllA",
        "outputId": "ea7364dc-5652-4e98-c77c-38f51122ea45"
      },
      "execution_count": 75,
      "outputs": [
        {
          "output_type": "stream",
          "name": "stdout",
          "text": [
            "기상시간은 6시 지난 밤에는 내내 차가운 물만 쏟아지더니 간밤에 돌렸다는 발전기가 열심히 일을 한 모양인지 따뜻한 물이 나오고 있었다 하루치 샤워는 포기하려고 했지만 따뜻한 물이 나온다면 감사한 일이지 소문내지 않고 호다닥 샤워를 하고 나왔다 대한민국 전기수도정수시설 감사합니다 가이드가 아침식사로 빵과 달걀부침 편으로 썬 오이랑 토마토 엷게 내린 커피를 준비했다 하루 일정이 바쁘지 아침부터 서두르게 하더라니 정작 오늘치 장을 보기 위해 들른 가게가 아직 문을 열지 않았다 주차장에 차를 대어두고 이래저래 스트레칭도 하고 즉석에서 예의 나는 잘 모르는 인싸춤이라고 하는 걸 몇 가지 배웠다 인싸들 세상 참 어렵게 산다 결국은 할 줄 아는 국민체조로 귀결 와이파이를 잡아서 국민체조 완곡 파일을 다운받아서 재생하였다 동그랗게 둘러서서 국민체조 동작을 하는데 나만 좌우가 반대다 십년을 넘게 반복해도 익혀지지가 않는 모양이다 오늘 이동은 487킬로미터 차로 여덞시간을 달려야 한다 그래도 뭐 내가 운전하는 거 아니니까 라고 가볍게 마음먹고 출발하였다 물론 얼마 지나지 않아 그 생각이 뭘 모르는 나님의 짧은 생각이었다는 것을 알게된다 내가 오늘날 누리고 있는 인프라가 얼마나 중요하고 기본적인 것인지를 알게 되었는데 그것은 바로 포장도로 비포장도로에서의 운전은 운전자나 동승자 모두가 어마어마하게 고생이라는 걸 새삼 느꼈다 나 어릴적에만 해도 없던 국도가 뚫리고 오토바이로 논길 다니고 하던 기억이 분명 있었는데 오랫동안 잊고 있었다 그래 우리나라는 땅이 꽤 좁고 인구밀도가 높은 편이라 연결망 하나는 어마어마 발전했지 않은가 매번 불평하는 대로 땅덩어리는 조그만 데에 몰려사느라 땅값은 비싸고 자원도 안나고 저기 어느 나라는 위치를 잘 타고 난 덕으로 힘들게 노동하지 않아도 천연자원으로 뽕을 뽑고 산다는데 이런 이야기를 40자 트위터에 싸지르곤 했었는데 말이다 단군할아버지가 부동산은 모르셨군요 이런 거 이곳처럼 위도는 높아서 춥고 땅은 넓고 인구밀도는 낮고 소양말낙타는 행복하고 사람은 가난하고 그래도 착하고 이런 거 물론 별은 아름답고 고기는 풍족하고 사람들은 마음은 편안하고 한 생활이 나쁘다는 뜻은 아님 이 나라 사람들도 자기 나라 사랑하겠지 한국인들은 왜이렇게 바쁘고 힘들게 살까 하면서 역시 몽골이 최고야 이럴지도 모르니까 아무튼 나는 나고 자란 환경이 대한민국 맞춤형이라 문명 발달 한 게 좋다 어릴적에 배운대로 사계절이 뚜렷한 아름다운 나라를 우리나라의 장점이라고 생각하지는 않게 되었지만 의식의 흐름으로 말하자면 어째튼 좌표는 잘 찍어서 태어났다\n",
            "기쁨: 99.89%\n",
            "당황: 0.01%\n",
            "분노: 0.04%\n",
            "불안: 0.04%\n",
            "상처: 0.01%\n",
            "슬픔: 0.01%\n",
            "\n",
            ">> 입력하신 내용에서 가장 느껴지는 감정은 '기쁨'이며, 확률은 99.89%입니다.\n"
          ]
        }
      ]
    },
    {
      "cell_type": "code",
      "source": [
        "sentence = \"새해가 되면서 목표한 것 중에 하나였던 매일 그림책 읽어주기. 사실 매일 읽어주면 나도 아이들도 지겨울까봐 살짝 꾀를 내어 월, 수, 금요일에만 읽어주려고 했는데 다행히 아이들이 좋아해서 매일 읽어주게 되었다. 자기 전에 아이들이 직접 고른 그림책을 들고 와서 읽고나면 잠자리에 드는, 참으로 이상적인 그림이었는데. 슬슬 문제가 생기기 시작했다. 바로 슬픈, 감동적인 그림책을 읽다가 엉엉 울어버린다는 것. \\\n",
        "              그것도 아이들이 아닌 읽어주는 어른인 내가 말이다. 처음엔 창피해서 꾹 참아보려 했는데 이게 어느 정점을 딱 지나면 나도 모르게 주르륵 흘러내려서 들키지 않을 수가 없게 된다는 문제였다. 이런 상황을 몇 번 겪다 보니 뭔가 슬프고 감동적인 순간이 오면 이 녀석들이 책은 안 보고 내 얼굴을 살피게 되고. 뭔가 대단한 것이라도 찾아낸 것처럼 '언니~ 엄마 울어!'라고 소리치는 둘째, '어이구~ 감수성 풍부한 우리 엄마~'라고 다독여주는 첫째까지. 그 가운데에서 부끄러운 건 나 혼자만의 몫이었다. 내가 왜 이럴까? 나이가 들어서 그런가? 스스로에게 물어봤지만, 아니다. 돌이켜보니 아쉽게도 난 원래 그랬었다. 작년에도 우연히 빌려온 '고녀석 맛있겠다'를 읽고 펑펑 울며 그 작가의 다른 책까지 모조리 읽고 눈이 붓도록 펑펑 울었던 기억. 그래도 그때는 아이들을 학교에 다 보내놓은 상태였는데. 이제는 아이들 앞에서 울고 있으니..한심하기도 하면서 부끄럽기도 하고. 눈물을 참지 못하는 내가 슬프기도 했다. 하지만 눈물이 나면 우는 것도(그게 설령 아이들 앞이라고 해도) 어떻게 보면 감정에 솔직한 것이니까..괜찮은거라고 위안을 삼아보지만..그래도 부끄러운 것은 사라지지 않는다. 그래도 아이들이 울고 있는 나를 토닥여주니 어떻게보면 또 의외의 성과가 있는 것도 같고.(사실 아무리 예쁘게 포장을 해봐도 창피하고 부끄럽다.) 아직 한참 남은 올 한해. 아이들과 함께 열심히 읽고, 열심히 느껴야지. 부디 12월쯤 되면 슬프고 감동적인 내용을 읽어도 눈물이 안 날 정도로 무뎌져 있기를. 아니면 우는게 나뿐아니라 아이들도 같이 울 수 있도록 아이들의 감수성도 쑥쑥 자라나기를 살짝쿵 바래본다.\"\n",
        "predict(sentence)"
      ],
      "metadata": {
        "colab": {
          "base_uri": "https://localhost:8080/"
        },
        "id": "i3wsv3TjO8VP",
        "outputId": "0cc194e5-1296-4718-8e74-20718ea9843f"
      },
      "execution_count": 79,
      "outputs": [
        {
          "output_type": "stream",
          "name": "stdout",
          "text": [
            "새해가 되면서 목표한 것 중에 하나였던 매일 그림책 읽어주기 사실 매일 읽어주면 나도 아이들도 지겨울까봐 살짝 꾀를 내어 월 수 금요일에만 읽어주려고 했는데 다행히 아이들이 좋아해서 매일 읽어주게 되었다 자기 전에 아이들이 직접 고른 그림책을 들고 와서 읽고나면 잠자리에 드는 참으로 이상적인 그림이었는데 슬슬 문제가 생기기 시작했다 바로 슬픈 감동적인 그림책을 읽다가 엉엉 울어버린다는 것 그것도 아이들이 아닌 읽어주는 어른인 내가 말이다 처음엔 창피해서 꾹 참아보려 했는데 이게 어느 정점을 딱 지나면 나도 모르게 주르륵 흘러내려서 들키지 않을 수가 없게 된다는 문제였다 이런 상황을 몇 번 겪다 보니 뭔가 슬프고 감동적인 순간이 오면 이 녀석들이 책은 안 보고 내 얼굴을 살피게 되고 뭔가 대단한 것이라도 찾아낸 것처럼 언니 엄마 울어라고 소리치는 둘째 어이구 감수성 풍부한 우리 엄마라고 다독여주는 첫째까지 그 가운데에서 부끄러운 건 나 혼자만의 몫이었다 내가 왜 이럴까 나이가 들어서 그런가 스스로에게 물어봤지만 아니다 돌이켜보니 아쉽게도 난 원래 그랬었다 작년에도 우연히 빌려온 고녀석 맛있겠다를 읽고 펑펑 울며 그 작가의 다른 책까지 모조리 읽고 눈이 붓도록 펑펑 울었던 기억 그래도 그때는 아이들을 학교에 다 보내놓은 상태였는데 이제는 아이들 앞에서 울고 있으니한심하기도 하면서 부끄럽기도 하고 눈물을 참지 못하는 내가 슬프기도 했다 하지만 눈물이 나면 우는 것도그게 설령 아이들 앞이라고 해도 어떻게 보면 감정에 솔직한 것이니까괜찮은거라고 위안을 삼아보지만그래도 부끄러운 것은 사라지지 않는다 그래도 아이들이 울고 있는 나를 토닥여주니 어떻게보면 또 의외의 성과가 있는 것도 같고사실 아무리 예쁘게 포장을 해봐도 창피하고 부끄럽다 아직 한참 남은 올 한해 아이들과 함께 열심히 읽고 열심히 느껴야지 부디 12월쯤 되면 슬프고 감동적인 내용을 읽어도 눈물이 안 날 정도로 무뎌져 있기를 아니면 우는게 나뿐아니라 아이들도 같이 울 수 있도록 아이들의 감수성도 쑥쑥 자라나기를 살짝쿵 바래본다\n",
            "기쁨: 99.69%\n",
            "당황: 0.04%\n",
            "분노: 0.11%\n",
            "불안: 0.12%\n",
            "상처: 0.02%\n",
            "슬픔: 0.03%\n",
            "\n",
            ">> 입력하신 내용에서 가장 느껴지는 감정은 '기쁨'이며, 확률은 99.69%입니다.\n"
          ]
        }
      ]
    },
    {
      "cell_type": "code",
      "source": [],
      "metadata": {
        "id": "G__VlNKLPD2Y"
      },
      "execution_count": null,
      "outputs": []
    }
  ]
}